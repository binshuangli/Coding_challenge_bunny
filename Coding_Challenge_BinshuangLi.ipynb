{
 "cells": [
  {
   "cell_type": "markdown",
   "metadata": {},
   "source": [
    "QUESTION\n",
    "Prompt: Write a function that takes the input, gives the output, and meets the conditions below.\n",
    "\n",
    "Input: An N x M matrix of a garden. Each cell contains an integer representing the number of carrots in that part of the garden.\n",
    "\n",
    "Output: The number of carrots Bunny eats before falling asleep.\n",
    "\n",
    "Conditions: Bunny starts in the center of the garden. If there are more than one center cell, Bunny starts in the cell with the largest number of carrots. There will never be a tie for the highest number of carrots in a center cell. Bunny eats all of the carrots in his cell, then looks left, right, up, and down for more carrots. Bunny always moves to the adjacent cell with the highest carrot count. If there are no adjacent cells with carrots, Bunny falls asleep.\n",
    "\n",
    "Example test case in python: \n",
    ">>> garden1 = [[5, 7, 8, 6, 3],\n",
    "               [0, 0, 7, 0, 4],\n",
    "               [4, 6, 3, 4, 9],\n",
    "               [3, 1, 0, 5, 8]]\n",
    "\n",
    ">>> eat(garden1)\n",
    "27  # starts at garden[1][2] = 7, eats 7 carrots, looks at the 8, 0, 3, and 0 adjacent, moves to the 8, repeat."
   ]
  },
  {
   "cell_type": "code",
   "execution_count": 1,
   "metadata": {},
   "outputs": [],
   "source": [
    "import numpy as np"
   ]
  },
  {
   "cell_type": "code",
   "execution_count": 2,
   "metadata": {},
   "outputs": [],
   "source": [
    "def eat(M):\n",
    "    try:\n",
    "        #convert input matrix to np 2-D array\n",
    "        M = np.array(M)\n",
    "        rows,cols = M.shape\n",
    "        center_row=[]\n",
    "        center_col=[]\n",
    "    \n",
    "        #if there's even number of rows, append the two center rows\n",
    "        if rows%2 == 0:\n",
    "            center_row.extend((rows//2-1,rows//2))\n",
    "        else:\n",
    "            center_row=[rows//2]\n",
    "\n",
    "        #if there's even number of columns, append the two center columns\n",
    "        if cols%2 == 0:\n",
    "            center_col.extend((cols//2-1, cols//2))\n",
    "        else:\n",
    "            center_col=[cols//2]\n",
    "            \n",
    "    #if the input is not a matrix, alert user\n",
    "    except:\n",
    "        print(\"Invalid input\")\n",
    "        raise\n",
    "\n",
    "    #center will be identified already if there is only one center \n",
    "    #otherwise find the corrdinates of the largest center cell\n",
    "    if len(center_row) == 1 and len(center_col) ==1:\n",
    "        max_center_val = M[center_row[0],center_col[0]]\n",
    "        max_center_col = center_col[0]\n",
    "        max_center_row = center_row[0]\n",
    "    \n",
    "    else:\n",
    "        max_center_val = M[center_row[0],center_col[0]]\n",
    "        max_center_col = center_row[0]\n",
    "        max_center_row = center_col[0]\n",
    "        for row in center_row:\n",
    "            for col in center_col:\n",
    "                if max_center_val < M[row,col]:\n",
    "                    max_center_val = M[row,col]\n",
    "                    max_center_row = row\n",
    "                    max_center_col = col\n",
    "    \n",
    "    #start to collect carrots!\n",
    "    #collect first cell\n",
    "    count = max_center_val\n",
    "    current_row = max_center_row\n",
    "    current_col = max_center_col\n",
    "    M[current_row, current_col]=0 \n",
    "    \n",
    "    #check what cells avaialble around the current cell\n",
    "    #if the current cell is at the edge, then there'wll be fewer than 4 cells\n",
    "    while 1:\n",
    "        candidates_val = []\n",
    "        candidates_coord = []\n",
    "        \n",
    "        if current_row < rows-1:\n",
    "            down = M[current_row+1,current_col]\n",
    "            candidates_val.append(down)\n",
    "            candidates_coord.append([current_row+1,current_col])\n",
    "        else:\n",
    "            down = 0\n",
    "            \n",
    "        if current_row > 0:\n",
    "            up = M[current_row-1,current_col]\n",
    "            candidates_val.append(up)\n",
    "            candidates_coord.append([current_row-1,current_col])\n",
    "        else:\n",
    "            up = 0\n",
    "            \n",
    "        if current_col < cols-1:\n",
    "            right = M[current_row,current_col+1]\n",
    "            candidates_val.append(right)\n",
    "            candidates_coord.append([current_row,current_col+1])\n",
    "        else:\n",
    "            right = 0\n",
    "            \n",
    "        if current_col > 0:\n",
    "            left = M[current_row,current_col-1]\n",
    "            candidates_val.append(left)\n",
    "            candidates_coord.append([current_row,current_col-1])\n",
    "        else:\n",
    "            left = 0\n",
    "            \n",
    "        #if there's no resouces in all directions, break out of the while loop, bunny goes to sleep\n",
    "        if left + right + up + down == 0:\n",
    "            break\n",
    "            \n",
    "        else:\n",
    "            #find the max value in all candiate cells, collect the carrot\n",
    "            max_candidate_val_index = candidates_val.index(max(candidates_val))\n",
    "            count += candidates_val[max_candidate_val_index]\n",
    "\n",
    "            #update the matrix and move to the next cell\n",
    "            M[current_row, current_col]=0 \n",
    "            current_row, current_col = candidates_coord[max_candidate_val_index]\n",
    "            \n",
    "            #show the path of the bunny and the updated garden matrix\n",
    "            print(current_row, current_col)\n",
    "            print(M)\n",
    "            \n",
    "    return count"
   ]
  },
  {
   "cell_type": "code",
   "execution_count": 3,
   "metadata": {},
   "outputs": [],
   "source": [
    "#even row, odd column\n",
    "garden1 = [[5, 7, 8, 6, 3],\n",
    "           [0, 0, 7, 0, 4],\n",
    "           [4, 6, 3, 4, 9],\n",
    "           [3, 1, 0, 5, 8]]"
   ]
  },
  {
   "cell_type": "code",
   "execution_count": 4,
   "metadata": {},
   "outputs": [
    {
     "name": "stdout",
     "output_type": "stream",
     "text": [
      "2 0\n",
      "[[5 7 8 6 3]\n",
      " [0 0 7 0 4]\n",
      " [4 0 3 4 9]\n",
      " [3 1 0 5 8]]\n",
      "3 0\n",
      "[[5 7 8 6 3]\n",
      " [0 0 7 0 4]\n",
      " [0 0 3 4 9]\n",
      " [3 1 0 5 8]]\n",
      "3 1\n",
      "[[5 7 8 6 3]\n",
      " [0 0 7 0 4]\n",
      " [0 0 3 4 9]\n",
      " [0 1 0 5 8]]\n"
     ]
    },
    {
     "data": {
      "text/plain": [
       "15"
      ]
     },
     "execution_count": 4,
     "metadata": {},
     "output_type": "execute_result"
    }
   ],
   "source": [
    "eat(garden1)"
   ]
  },
  {
   "cell_type": "code",
   "execution_count": 5,
   "metadata": {},
   "outputs": [],
   "source": [
    "#even row, even column\n",
    "garden2 = [[5, 7, 8, 6, 3],\n",
    "            [0, 6, 7, 0, 4],\n",
    "            [4, 6, 3, 4, 9],\n",
    "            [4, 6, 3, 4, 9],\n",
    "            [3, 1, 0, 5, 8]]"
   ]
  },
  {
   "cell_type": "code",
   "execution_count": 6,
   "metadata": {},
   "outputs": [
    {
     "name": "stdout",
     "output_type": "stream",
     "text": [
      "1 2\n",
      "[[5 7 8 6 3]\n",
      " [0 6 7 0 4]\n",
      " [4 6 0 4 9]\n",
      " [4 6 3 4 9]\n",
      " [3 1 0 5 8]]\n",
      "0 2\n",
      "[[5 7 8 6 3]\n",
      " [0 6 0 0 4]\n",
      " [4 6 0 4 9]\n",
      " [4 6 3 4 9]\n",
      " [3 1 0 5 8]]\n",
      "0 1\n",
      "[[5 7 0 6 3]\n",
      " [0 6 0 0 4]\n",
      " [4 6 0 4 9]\n",
      " [4 6 3 4 9]\n",
      " [3 1 0 5 8]]\n",
      "1 1\n",
      "[[5 0 0 6 3]\n",
      " [0 6 0 0 4]\n",
      " [4 6 0 4 9]\n",
      " [4 6 3 4 9]\n",
      " [3 1 0 5 8]]\n",
      "2 1\n",
      "[[5 0 0 6 3]\n",
      " [0 0 0 0 4]\n",
      " [4 6 0 4 9]\n",
      " [4 6 3 4 9]\n",
      " [3 1 0 5 8]]\n",
      "3 1\n",
      "[[5 0 0 6 3]\n",
      " [0 0 0 0 4]\n",
      " [4 0 0 4 9]\n",
      " [4 6 3 4 9]\n",
      " [3 1 0 5 8]]\n",
      "3 0\n",
      "[[5 0 0 6 3]\n",
      " [0 0 0 0 4]\n",
      " [4 0 0 4 9]\n",
      " [4 0 3 4 9]\n",
      " [3 1 0 5 8]]\n",
      "2 0\n",
      "[[5 0 0 6 3]\n",
      " [0 0 0 0 4]\n",
      " [4 0 0 4 9]\n",
      " [0 0 3 4 9]\n",
      " [3 1 0 5 8]]\n"
     ]
    },
    {
     "data": {
      "text/plain": [
       "51"
      ]
     },
     "execution_count": 6,
     "metadata": {},
     "output_type": "execute_result"
    }
   ],
   "source": [
    "eat(garden2)"
   ]
  },
  {
   "cell_type": "code",
   "execution_count": 7,
   "metadata": {},
   "outputs": [],
   "source": [
    "#single(odd) row, odd column\n",
    "garden3 = [[5, 7, 8, 6, 3]]"
   ]
  },
  {
   "cell_type": "code",
   "execution_count": 8,
   "metadata": {},
   "outputs": [
    {
     "name": "stdout",
     "output_type": "stream",
     "text": [
      "0 1\n",
      "[[5 7 0 6 3]]\n",
      "0 0\n",
      "[[5 0 0 6 3]]\n"
     ]
    },
    {
     "data": {
      "text/plain": [
       "20"
      ]
     },
     "execution_count": 8,
     "metadata": {},
     "output_type": "execute_result"
    }
   ],
   "source": [
    "eat(garden3)"
   ]
  },
  {
   "cell_type": "code",
   "execution_count": 9,
   "metadata": {},
   "outputs": [],
   "source": [
    "#odd row, single(odd)  column\n",
    "garden4 = [[5], [7], [8], [6], [3]]"
   ]
  },
  {
   "cell_type": "code",
   "execution_count": 10,
   "metadata": {},
   "outputs": [
    {
     "name": "stdout",
     "output_type": "stream",
     "text": [
      "1 0\n",
      "[[5]\n",
      " [7]\n",
      " [0]\n",
      " [6]\n",
      " [3]]\n",
      "0 0\n",
      "[[5]\n",
      " [0]\n",
      " [0]\n",
      " [6]\n",
      " [3]]\n"
     ]
    },
    {
     "data": {
      "text/plain": [
       "20"
      ]
     },
     "execution_count": 10,
     "metadata": {},
     "output_type": "execute_result"
    }
   ],
   "source": [
    "eat(garden4)"
   ]
  },
  {
   "cell_type": "code",
   "execution_count": 11,
   "metadata": {},
   "outputs": [],
   "source": [
    "#single row, single column\n",
    "garden5 = [[5]]"
   ]
  },
  {
   "cell_type": "code",
   "execution_count": 12,
   "metadata": {},
   "outputs": [
    {
     "data": {
      "text/plain": [
       "5"
      ]
     },
     "execution_count": 12,
     "metadata": {},
     "output_type": "execute_result"
    }
   ],
   "source": [
    "eat(garden5)"
   ]
  }
 ],
 "metadata": {
  "kernelspec": {
   "display_name": "Python [conda env:insight]",
   "language": "python",
   "name": "conda-env-insight-py"
  },
  "language_info": {
   "codemirror_mode": {
    "name": "ipython",
    "version": 3
   },
   "file_extension": ".py",
   "mimetype": "text/x-python",
   "name": "python",
   "nbconvert_exporter": "python",
   "pygments_lexer": "ipython3",
   "version": "3.6.5"
  }
 },
 "nbformat": 4,
 "nbformat_minor": 2
}
